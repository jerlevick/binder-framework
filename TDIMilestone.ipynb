{
 "cells": [
  {
   "cell_type": "code",
   "execution_count": 9,
   "metadata": {},
   "outputs": [],
   "source": [
    "import pandas as pd\n",
    "df = pd.read_csv('Value_of_Energy_Cost_Savings_Program_Savings_for_Businesses_-_FY2020.csv')\n",
    "column_list = df.columns"
   ]
  },
  {
   "cell_type": "code",
   "execution_count": 8,
   "metadata": {},
   "outputs": [
    {
     "name": "stdout",
     "output_type": "stream",
     "text": [
      "439\n"
     ]
    }
   ],
   "source": [
    "## How many different companies are represented in the data set?\n",
    "companies = df['Company Name'].dropna()\n",
    "num_companies = len(set(companies))\n",
    "print(num_companies)"
   ]
  },
  {
   "cell_type": "code",
   "execution_count": 21,
   "metadata": {},
   "outputs": [
    {
     "name": "stdout",
     "output_type": "stream",
     "text": [
      "102.0\n"
     ]
    }
   ],
   "source": [
    "## What is the total number of jobs created for businesses in Queens?\n",
    "queens_df = df[df['Borough'] == 'Queens']\n",
    "queens_jobs = queens_df['Job created'].dropna()\n",
    "queens_jobs_created = sum(queens_jobs)\n",
    "print(queens_jobs_created)"
   ]
  },
  {
   "cell_type": "code",
   "execution_count": 29,
   "metadata": {},
   "outputs": [
    {
     "name": "stdout",
     "output_type": "stream",
     "text": [
      "420\n"
     ]
    }
   ],
   "source": [
    "## How many different unique email domains names are there in the data set\n",
    "email_list = df['company email'].dropna()\n",
    "unique_emails = len(set(email_list))\n",
    "print(unique_emails)"
   ]
  },
  {
   "cell_type": "code",
   "execution_count": 55,
   "metadata": {},
   "outputs": [
    {
     "name": "stdout",
     "output_type": "stream",
     "text": [
      "{'DUMBO-Vinegar Hill-Downtown Brooklyn-Boerum Hill': (59950.340000000004, 0), 'Springfield Gardens South-Brookville': (17757.662, 0), 'Battery Park City-Lower Manhattan': (469890.79666666663, 0), 'College Point': (17159.372857142855, 2.0), 'Queensbridge-Ravenswood-Long Island City': (61830.770625, 0), 'East New York': (48433.09333333333, 15.0), 'park-cemetery-etc-Brooklyn': (14327.419333333331, 0), 'Hunts Point': (39246.016153846154, 12.0), 'Mott Haven-Port Morris': (17843.937857142857, 3.3333333333333335), 'Carroll Gardens-Columbia Street-Red Hook': (24337.390000000003, 0), 'Steinway': (11227.155714285715, 20.0), 'Crown Heights North': (4036.298888888889, 0), 'SoHo-TriBeCa-Civic Center-Little Italy': (37214.024, 0), 'Bushwick South': (26140.455000000005, 10.0), 'Sunset Park West': (14316.976875000002, 0), 'East Williamsburg': (13990.626363636366, 0), 'Maspeth': (6658.283333333334, 10.0), 'Hunters Point-Sunnyside-West Maspeth': (23931.398933333337, 0), 'Manhattanville': (2760.8888888888887, 0), 'Greenpoint': (9753.649285714284, 0)}\n"
     ]
    }
   ],
   "source": [
    "## Considering only NTAs with at least 5 listed businesses, what is the average total savings and the total jobs created for each NTA?\n",
    "\n",
    "NTA_list = list(set(df['NTA'].dropna()))\n",
    "nta_dict = dict()\n",
    "for NTA in NTA_list:\n",
    "    nta_df = df[df['NTA'] == NTA]\n",
    "    company_list = nta_df['Company Name'].dropna()\n",
    "    if len(company_list) >= 5:\n",
    "        total_savings = nta_df['Total Savings'].dropna()\n",
    "        total_jobs_created = nta_df['Job created'].dropna()\n",
    "        if len(total_savings):\n",
    "            avg_tot_savings = sum(total_savings)/len(total_savings)\n",
    "        else:\n",
    "            avg_tot_savings = 0\n",
    "        if len(total_jobs_created):\n",
    "            avg_jobs_created = sum(total_jobs_created)/len(total_jobs_created)\n",
    "        else:\n",
    "            avg_jobs_created = 0\n",
    "        nta_dict[NTA] = (avg_tot_savings,avg_jobs_created)\n",
    "print(nta_dict)"
   ]
  },
  {
   "cell_type": "code",
   "execution_count": 53,
   "metadata": {},
   "outputs": [],
   "source": [
    "frame = [[nta,nta_dict[nta][0],nta_dict[nta][1]] for nta in nta_dict.keys()]\n",
    "new_df = pd.DataFrame(frame, columns = ['NTA', 'Average Total Savings','Average Jobs Created'])\n",
    "new_df.to_csv('Milestone Project.csv')"
   ]
  },
  {
   "cell_type": "code",
   "execution_count": 51,
   "metadata": {},
   "outputs": [
    {
     "data": {
      "text/plain": [
       "{'Battery Park City-Lower Manhattan': (469890.79666666663, 0),\n",
       " 'Bushwick South': (26140.455000000005, 10.0),\n",
       " 'Carroll Gardens-Columbia Street-Red Hook': (24337.390000000003, 0),\n",
       " 'College Point': (17159.372857142855, 2.0),\n",
       " 'Crown Heights North': (4036.298888888889, 0),\n",
       " 'DUMBO-Vinegar Hill-Downtown Brooklyn-Boerum Hill': (59950.340000000004, 0),\n",
       " 'East New York': (48433.09333333333, 15.0),\n",
       " 'East Williamsburg': (13990.626363636366, 0),\n",
       " 'Greenpoint': (9753.649285714284, 0),\n",
       " 'Hunters Point-Sunnyside-West Maspeth': (23931.398933333337, 0),\n",
       " 'Hunts Point': (39246.016153846154, 12.0),\n",
       " 'Manhattanville': (2760.8888888888887, 0),\n",
       " 'Maspeth': (6658.283333333334, 10.0),\n",
       " 'Mott Haven-Port Morris': (17843.937857142857, 3.3333333333333335),\n",
       " 'Queensbridge-Ravenswood-Long Island City': (61830.770625, 0),\n",
       " 'SoHo-TriBeCa-Civic Center-Little Italy': (37214.024, 0),\n",
       " 'Springfield Gardens South-Brookville': (17757.662, 0),\n",
       " 'Steinway': (11227.155714285715, 20.0),\n",
       " 'Sunset Park West': (14316.976875000002, 0),\n",
       " 'park-cemetery-etc-Brooklyn': (14327.419333333331, 0)}"
      ]
     },
     "execution_count": 51,
     "metadata": {},
     "output_type": "execute_result"
    }
   ],
   "source": []
  },
  {
   "cell_type": "code",
   "execution_count": 54,
   "metadata": {},
   "outputs": [],
   "source": [
    "\"\"\"Using the same data set and results that you were working with in the pandas action items section (Day 4), create a\n",
    "scatter plot of jobs created versus average savings. Use both a standard and a logarithmic scale for the average savings.\n",
    "histogram of the log of the average total savings.\n",
    "line plot of the total jobs created for each month.\"\"\"\n",
    "\n",
    "import matplotlib.pyplot as plt"
   ]
  },
  {
   "cell_type": "code",
   "execution_count": 57,
   "metadata": {},
   "outputs": [],
   "source": [
    "## Considering only NTAs with at least 5 listed businesses, what is the average total savings and the total jobs created for each NTA?\n",
    "\n",
    "NTA_list = list(set(df['NTA'].dropna()))\n",
    "total_jobs_list = []\n",
    "avg_tot_savings_list = []\n",
    "for NTA in NTA_list:\n",
    "    nta_df = df[df['NTA'] == NTA]\n",
    "    company_list = nta_df['Company Name'].dropna()\n",
    "    total_savings = nta_df['Total Savings'].dropna()\n",
    "    total_jobs_created = nta_df['Job created'].dropna()\n",
    "    if len(total_savings):\n",
    "        avg_tot_savings = sum(total_savings)/len(total_savings)\n",
    "    else:\n",
    "        avg_tot_savings = 0\n",
    "    if len(total_jobs_created):\n",
    "        jobs_created = sum(total_jobs_created)\n",
    "    else:\n",
    "        jobs_created = 0\n",
    "    total_jobs_list.append(jobs_created)\n",
    "    avg_tot_savings_list.append(avg_tot_savings)\n",
    "    \n",
    "    \n",
    "    "
   ]
  },
  {
   "cell_type": "code",
   "execution_count": 74,
   "metadata": {},
   "outputs": [
    {
     "data": {
      "image/png": "[encoded data removed]",
      "text/plain": [
       "<matplotlib.figure.Figure at 0x2361a621ac8>"
      ]
     },
     "metadata": {},
     "output_type": "display_data"
    }
   ],
   "source": [
    "plt.scatter(avg_tot_savings_list,total_jobs_list)\n",
    "def sgn(x):\n",
    "    if x >= 0:\n",
    "        return 1\n",
    "    else:\n",
    "        return -1"
   ]
  },
  {
   "cell_type": "code",
   "execution_count": 75,
   "metadata": {},
   "outputs": [
    {
     "data": {
      "text/plain": [
       "<matplotlib.collections.PathCollection at 0x23619f07f28>"
      ]
     },
     "execution_count": 75,
     "metadata": {},
     "output_type": "execute_result"
    },
    {
     "data": {
      "image/png": "[encoded data removed]",
      "text/plain": [
       "<matplotlib.figure.Figure at 0x2361a68c6d8>"
      ]
     },
     "metadata": {},
     "output_type": "display_data"
    }
   ],
   "source": [
    "import numpy as np\n",
    "plt.scatter([sgn(x)*np.log(abs(x)) for x in avg_tot_savings_list],total_jobs_list)"
   ]
  },
  {
   "cell_type": "code",
   "execution_count": 78,
   "metadata": {},
   "outputs": [
    {
     "data": {
      "text/plain": [
       "(array([ 1.,  1.,  0.,  0.,  0.,  0.,  1.,  8., 54., 14.]),\n",
       " array([-10.48521329,  -8.13066641,  -5.77611952,  -3.42157263,\n",
       "         -1.06702574,   1.28752115,   3.64206804,   5.99661493,\n",
       "          8.35116182,  10.70570871,  13.0602556 ]),\n",
       " <a list of 10 Patch objects>)"
      ]
     },
     "execution_count": 78,
     "metadata": {},
     "output_type": "execute_result"
    },
    {
     "data": {
      "image/png": "[encoded data removed]",
      "text/plain": [
       "<matplotlib.figure.Figure at 0x2361a30a080>"
      ]
     },
     "metadata": {},
     "output_type": "display_data"
    }
   ],
   "source": [
    "plt.hist([sgn(x)*np.log(abs(x)) for x in avg_tot_savings_list])"
   ]
  },
  {
   "cell_type": "code",
   "execution_count": 87,
   "metadata": {},
   "outputs": [],
   "source": [
    "df['Month/Year'] = df['Effective Date'].transform(lambda x: (x.split('/')[0],x.split('/')[2]))"
   ]
  },
  {
   "cell_type": "code",
   "execution_count": 105,
   "metadata": {},
   "outputs": [],
   "source": []
  },
  {
   "cell_type": "code",
   "execution_count": 142,
   "metadata": {},
   "outputs": [],
   "source": [
    "jobs_per_month_dict = dict()\n",
    "for month, year in month_year_list:\n",
    "    mon_year_df = df[df['Month/Year'] == (month, year)]\n",
    "    jobs_created_list = mon_year_df['Job created'].dropna()\n",
    "    if len(jobs_created_list):\n",
    "        jobs_created = sum(jobs_created_list)\n",
    "    else:\n",
    "        jobs_created = 0\n",
    "    jobs_per_month_dict[(month,year)] = jobs_created"
   ]
  },
  {
   "cell_type": "code",
   "execution_count": 144,
   "metadata": {},
   "outputs": [],
   "source": [
    "month_year_list = sorted(list(set(df['Month/Year'])), key = lambda x: (x[1],x[0]))\n",
    "month_dict = {'01': 'Jan', '02': 'Feb', '03': 'Mar', '04': 'Apr', '05': 'May', '06': 'Jun', '07': 'Jul', '08': 'Aug', '09': 'Sep', '10': 'Oct', '11': 'Nov', '12':'Dec'}\n",
    "date_list = [month_dict[x[0]]+str(x[1]) for x in month_year_list]"
   ]
  },
  {
   "cell_type": "code",
   "execution_count": 154,
   "metadata": {},
   "outputs": [],
   "source": [
    "new_frame = [[date_list[month_year_list.index((month,year))], jobs_per_month_dict[(month,year)]] for month, year in month_year_list]\n",
    "jobs_per_month_df = pd.DataFrame(new_frame,columns = ['Month/Year', 'Jobs Created'])"
   ]
  },
  {
   "cell_type": "code",
   "execution_count": 159,
   "metadata": {},
   "outputs": [
    {
     "data": {
      "text/plain": [
       "<matplotlib.axes._subplots.AxesSubplot at 0x2361c13c240>"
      ]
     },
     "execution_count": 159,
     "metadata": {},
     "output_type": "execute_result"
    },
    {
     "data": {
      "image/png": "[encoded data removed]",
      "text/plain": [
       "<matplotlib.figure.Figure at 0x2361c1cd940>"
      ]
     },
     "metadata": {},
     "output_type": "display_data"
    }
   ],
   "source": [
    "jobs_per_month_df.plot.line(x = 'Month/Year', y = 'Jobs Created')"
   ]
  },
  {
   "cell_type": "code",
   "execution_count": 158,
   "metadata": {},
   "outputs": [
    {
     "data": {
      "text/plain": [
       "[('Feb1993', 15.0),\n",
       " ('Mar2004', 10.0),\n",
       " ('Feb2005', 12.0),\n",
       " ('Mar2005', 0.0),\n",
       " ('Jun2005', 0.0),\n",
       " ('Mar2006', 10.0),\n",
       " ('Apr2007', 2.0),\n",
       " ('May2007', 2.0),\n",
       " ('Jun2007', 63.0),\n",
       " ('Jul2007', 20.0),\n",
       " ('Aug2007', 0.0),\n",
       " ('Sep2007', 0.0),\n",
       " ('Oct2007', 0.0),\n",
       " ('Nov2007', 5.0),\n",
       " ('Dec2007', 0.0),\n",
       " ('Jan2008', 0.0),\n",
       " ('Feb2008', 0.0),\n",
       " ('Mar2008', 0.0),\n",
       " ('Apr2008', 0.0),\n",
       " ('May2008', 0.0),\n",
       " ('Jun2008', 0.0),\n",
       " ('Jul2008', 0.0),\n",
       " ('Aug2008', 0.0),\n",
       " ('Sep2008', 0.0),\n",
       " ('Oct2008', 0.0),\n",
       " ('Nov2008', 0.0),\n",
       " ('Dec2008', 10.0),\n",
       " ('Jan2009', 0.0),\n",
       " ('Feb2009', 0.0),\n",
       " ('Mar2009', 0.0),\n",
       " ('Apr2009', 0.0),\n",
       " ('Jun2009', 0.0),\n",
       " ('Jul2009', 0.0),\n",
       " ('Aug2009', 0.0),\n",
       " ('Sep2009', 0.0),\n",
       " ('Oct2009', 0.0),\n",
       " ('Nov2009', 0.0),\n",
       " ('Dec2009', 0.0),\n",
       " ('Jan2010', 0.0),\n",
       " ('Feb2010', 0.0),\n",
       " ('Mar2010', 0.0),\n",
       " ('Apr2010', 0.0),\n",
       " ('May2010', 0.0),\n",
       " ('Jun2010', 0.0),\n",
       " ('Jul2010', 0.0),\n",
       " ('Aug2010', 0.0),\n",
       " ('Sep2010', 0.0),\n",
       " ('Oct2010', 0.0),\n",
       " ('Nov2010', 0.0),\n",
       " ('Dec2010', 0.0),\n",
       " ('Jan2011', 0.0),\n",
       " ('Feb2011', 0.0),\n",
       " ('Mar2011', 0.0),\n",
       " ('Apr2011', 0.0),\n",
       " ('May2011', 0.0),\n",
       " ('Jun2011', 0.0),\n",
       " ('Jul2011', 0.0),\n",
       " ('Sep2011', 0.0),\n",
       " ('Oct2011', 0.0),\n",
       " ('Nov2011', 0.0),\n",
       " ('Dec2011', 0.0),\n",
       " ('Jan2012', 0.0),\n",
       " ('Feb2012', 0.0),\n",
       " ('Mar2012', 0.0),\n",
       " ('Apr2012', 0.0),\n",
       " ('May2012', 0.0),\n",
       " ('Jun2012', 0.0),\n",
       " ('Aug2012', 0.0),\n",
       " ('Oct2012', 0.0),\n",
       " ('Nov2012', 0.0),\n",
       " ('Dec2012', 0.0),\n",
       " ('Jan2013', 0.0),\n",
       " ('Feb2013', 0.0),\n",
       " ('Mar2013', 0.0),\n",
       " ('Apr2013', 0.0),\n",
       " ('May2013', 0.0),\n",
       " ('Jun2013', 0.0),\n",
       " ('Jul2013', 0.0),\n",
       " ('Dec2013', 0.0),\n",
       " ('Jul2014', 0.0),\n",
       " ('Aug2014', 0.0),\n",
       " ('Sep2014', 0.0),\n",
       " ('Nov2014', 0.0),\n",
       " ('Dec2014', 0.0),\n",
       " ('Jan2015', 0.0),\n",
       " ('Feb2015', 0.0),\n",
       " ('Mar2015', 0.0),\n",
       " ('May2015', 0.0),\n",
       " ('Jun2015', 0.0),\n",
       " ('Jul2015', 0.0),\n",
       " ('Oct2015', 0.0),\n",
       " ('Nov2015', 0.0),\n",
       " ('Dec2015', 0.0),\n",
       " ('Jan2016', 0.0),\n",
       " ('Feb2016', 0.0),\n",
       " ('Mar2016', 0.0),\n",
       " ('Apr2016', 0.0),\n",
       " ('May2016', 0.0),\n",
       " ('Jun2016', 0.0),\n",
       " ('Jul2016', 0.0),\n",
       " ('Sep2016', 0.0),\n",
       " ('Oct2016', 0.0),\n",
       " ('Nov2016', 0.0),\n",
       " ('Dec2016', 0.0),\n",
       " ('Jan2017', 0.0),\n",
       " ('Feb2017', 0.0),\n",
       " ('Mar2017', 0.0),\n",
       " ('May2017', 0.0),\n",
       " ('Jun2017', 0.0),\n",
       " ('Jul2017', 0.0),\n",
       " ('Aug2017', 0.0),\n",
       " ('Oct2017', 0.0),\n",
       " ('Nov2017', 0.0),\n",
       " ('Dec2017', 0.0),\n",
       " ('Jan2018', 0.0),\n",
       " ('Feb2018', 0.0),\n",
       " ('Mar2018', 0.0),\n",
       " ('Apr2018', 0.0),\n",
       " ('Jun2018', 0.0),\n",
       " ('Aug2018', 0.0),\n",
       " ('Oct2018', 0.0),\n",
       " ('Nov2018', 0.0),\n",
       " ('Dec2018', 0.0),\n",
       " ('Jan2019', 0.0),\n",
       " ('Feb2019', 0.0),\n",
       " ('Mar2019', 0.0),\n",
       " ('Apr2019', 0.0),\n",
       " ('May2019', 0.0),\n",
       " ('Jun2019', 0.0),\n",
       " ('Jul2019', 0.0),\n",
       " ('Aug2019', 0.0),\n",
       " ('Oct2019', 0.0),\n",
       " ('Nov2019', 0.0),\n",
       " ('Dec2019', 0.0),\n",
       " ('Feb2020', 0.0),\n",
       " ('Mar2020', 0.0),\n",
       " ('Apr2020', 0.0),\n",
       " ('May2020', 0.0),\n",
       " ('Jun2020', 0.0),\n",
       " ('Jul2020', 0.0)]"
      ]
     },
     "execution_count": 158,
     "metadata": {},
     "output_type": "execute_result"
    }
   ],
   "source": []
  }
 ],
 "metadata": {
  "kernelspec": {
   "display_name": "Python 3",
   "language": "python",
   "name": "python3"
  },
  "language_info": {
   "codemirror_mode": {
    "name": "ipython",
    "version": 3
   },
   "file_extension": ".py",
   "mimetype": "text/x-python",
   "name": "python",
   "nbconvert_exporter": "python",
   "pygments_lexer": "ipython3",
   "version": "3.6.4"
  }
 },
 "nbformat": 4,
 "nbformat_minor": 2
}
